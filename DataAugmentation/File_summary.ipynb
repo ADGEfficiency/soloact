{
 "cells": [
  {
   "cell_type": "code",
   "execution_count": 45,
   "metadata": {
    "collapsed": true
   },
   "outputs": [],
   "source": [
    "import pandas as pd \n",
    "import os\n",
    "import xml.etree.ElementTree as ET  # https://docs.python.org/3/library/xml.etree.elementtree.html\n",
    "\n",
    "DOWNLOAD_URL = 'https://www.idmt.fraunhofer.de/en/business_units/m2d/smt/guitar.html'\n",
    "DOWNLOAD_PATH = '/Users/BhavishDaswani/Downloads/IDMT-SMT-GUITAR_V2/dataset1/'\n",
    "GUITAR_TYPES = os.listdir(DOWNLOAD_PATH)"
   ]
  },
  {
   "cell_type": "markdown",
   "metadata": {},
   "source": [
    "# Read XML annotations"
   ]
  },
  {
   "cell_type": "markdown",
   "metadata": {},
   "source": [
    "<?xml version=\"1.0\" encoding=\"UTF-8\" standalone=\"yes\"?>\n",
    "<instrumentRecording>\n",
    "  <globalParameter>\n",
    "    <audioFileName>G53-41101-1111-00002.wav</audioFileName>\n",
    "    <instrument>EGUI</instrument>\n",
    "    <recordingDate>07.01.2013</recordingDate>\n",
    "  </globalParameter>\n",
    "  <transcription>\n",
    "    <event>\n",
    "      <pitch>41</pitch>\n",
    "      <onsetSec>0.2</onsetSec>\n",
    "      <offsetSec>2.5</offsetSec>\n",
    "      <fretNumber>1</fretNumber>\n",
    "      <stringNumber>1</stringNumber>\n",
    "      <excitationStyle>PK</excitationStyle>\n",
    "      <expressionStyle>NO</expressionStyle>\n",
    "    </event>\n",
    "  </transcription>\n",
    "</instrumentRecording> "
   ]
  },
  {
   "cell_type": "code",
   "execution_count": 48,
   "metadata": {},
   "outputs": [],
   "source": [
    "all_meta = []\n",
    "for model in GUITAR_TYPES:\n",
    "    annoation_files = DOWNLOAD_PATH + model + '/annotation'\n",
    "    os.chdir(annoation_files) # full path change \n",
    "    all_files = os.listdir()\n",
    "    for meta in all_files:\n",
    "        tree = ET.parse(meta)\n",
    "        root = tree.getroot()\n",
    "        record = {}\n",
    "        record['guitarModel'] = model\n",
    "        for meta_attribute in root:\n",
    "            if meta_attribute.tag == 'globalParameter':\n",
    "                for field in meta_attribute:\n",
    "                    record[field.tag] = field.text\n",
    "            else:\n",
    "                for field in meta_attribute.find('event'):\n",
    "                    record[field.tag] = field.text\n",
    "        all_meta.append(record)\n",
    "pd.DataFrame(all_meta).to_csv(open('summary_of_annotations.csv', 'w'))"
   ]
  }
 ],
 "metadata": {
  "kernelspec": {
   "display_name": "Python 3",
   "language": "python",
   "name": "python3"
  },
  "language_info": {
   "codemirror_mode": {
    "name": "ipython",
    "version": 3
   },
   "file_extension": ".py",
   "mimetype": "text/x-python",
   "name": "python",
   "nbconvert_exporter": "python",
   "pygments_lexer": "ipython3",
   "version": "3.6.3"
  }
 },
 "nbformat": 4,
 "nbformat_minor": 2
}
