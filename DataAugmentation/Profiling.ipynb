{
 "cells": [
  {
   "cell_type": "markdown",
   "metadata": {},
   "source": [
    "# Monophonic profiling w/ plotly experiments"
   ]
  },
  {
   "cell_type": "code",
   "execution_count": 141,
   "metadata": {},
   "outputs": [
    {
     "data": {
      "text/html": [
       "<script>requirejs.config({paths: { 'plotly': ['https://cdn.plot.ly/plotly-latest.min']},});if(!window.Plotly) {{require(['plotly'],function(plotly) {window.Plotly=plotly;});}}</script>"
      ],
      "text/vnd.plotly.v1+html": [
       "<script>requirejs.config({paths: { 'plotly': ['https://cdn.plot.ly/plotly-latest.min']},});if(!window.Plotly) {{require(['plotly'],function(plotly) {window.Plotly=plotly;});}}</script>"
      ]
     },
     "metadata": {},
     "output_type": "display_data"
    }
   ],
   "source": [
    "import pandas as pd \n",
    "import os\n",
    "import xml.etree.ElementTree as ET  # https://docs.python.org/3/library/xml.etree.elementtree.html\n",
    "import warnings\n",
    "warnings.simplefilter('ignore')\n",
    "from plotly.offline import iplot, init_notebook_mode\n",
    "init_notebook_mode(True)\n",
    "\n",
    "DOWNLOAD_URL = 'https://www.idmt.fraunhofer.de/en/business_units/m2d/smt/guitar.html'\n",
    "DOWNLOAD_PATH = '/Users/BhavishDaswani/Downloads/IDMT-SMT-GUITAR_V2/dataset1/'\n",
    "GUITAR_TYPES = os.listdir(DOWNLOAD_PATH)"
   ]
  },
  {
   "cell_type": "markdown",
   "metadata": {},
   "source": [
    "# Sample XML annotations file"
   ]
  },
  {
   "cell_type": "code",
   "execution_count": 32,
   "metadata": {},
   "outputs": [
    {
     "data": {
      "text/plain": [
       "'<?xml version=\"1.0\" encoding=\"UTF-8\" standalone=\"yes\"?>\\n<instrumentRecording>\\n  <globalParameter>\\n    <audioFileName>G53-41101-1111-00002.wav</audioFileName>\\n    <instrument>EGUI</instrument>\\n    <recordingDate>07.01.2013</recordingDate>\\n  </globalParameter>\\n  <transcription>\\n    <event>\\n      <pitch>41</pitch>\\n      <onsetSec>0.2</onsetSec>\\n      <offsetSec>2.5</offsetSec>\\n      <fretNumber>1</fretNumber>\\n      <stringNumber>1</stringNumber>\\n      <excitationStyle>PK</excitationStyle>\\n      <expressionStyle>NO</expressionStyle>\\n    </event>\\n  </transcription>\\n</instrumentRecording>'"
      ]
     },
     "execution_count": 32,
     "metadata": {},
     "output_type": "execute_result"
    }
   ],
   "source": [
    "\"\"\"<?xml version=\"1.0\" encoding=\"UTF-8\" standalone=\"yes\"?>\n",
    "<instrumentRecording>\n",
    "  <globalParameter>\n",
    "    <audioFileName>G53-41101-1111-00002.wav</audioFileName>\n",
    "    <instrument>EGUI</instrument>\n",
    "    <recordingDate>07.01.2013</recordingDate>\n",
    "  </globalParameter>\n",
    "  <transcription>\n",
    "    <event>\n",
    "      <pitch>41</pitch>\n",
    "      <onsetSec>0.2</onsetSec>\n",
    "      <offsetSec>2.5</offsetSec>\n",
    "      <fretNumber>1</fretNumber>\n",
    "      <stringNumber>1</stringNumber>\n",
    "      <excitationStyle>PK</excitationStyle>\n",
    "      <expressionStyle>NO</expressionStyle>\n",
    "    </event>\n",
    "  </transcription>\n",
    "</instrumentRecording>\"\"\""
   ]
  },
  {
   "cell_type": "markdown",
   "metadata": {},
   "source": [
    "# Create annotations file"
   ]
  },
  {
   "cell_type": "code",
   "execution_count": 218,
   "metadata": {},
   "outputs": [
    {
     "name": "stdout",
     "output_type": "stream",
     "text": [
      "Non-xml file type found, skipping!\n"
     ]
    }
   ],
   "source": [
    "all_meta = []\n",
    "for model in GUITAR_TYPES:\n",
    "    annoation_files = DOWNLOAD_PATH + model + '/annotation'\n",
    "    for path , dirs, all_files in os.walk(annoation_files):\n",
    "        for meta in all_files:\n",
    "            filepath = path + '/' + meta\n",
    "            try:\n",
    "                \n",
    "                # INTRODUCING XML LIBRARY \n",
    "                tree = ET.parse(filepath)\n",
    "                root = tree.getroot()\n",
    "                record = {}\n",
    "                record['guitarModel'] = model\n",
    "                # COMMON FLOW FOR ITERATING OVER XML\n",
    "                for meta_attribute in root:\n",
    "                    # TWO PARTS TO AN XML ANNOTATIONS FILE - FILE DATA (FIRST) and TRACK DATA (second)\n",
    "                    if meta_attribute.tag == 'globalParameter':\n",
    "                        for field in meta_attribute:\n",
    "                            record[field.tag] = field.text\n",
    "                    else:\n",
    "                        # FILE DATA\n",
    "                        for field in meta_attribute.find('event'):\n",
    "                            record[field.tag] = field.text\n",
    "                all_meta.append(record)\n",
    "            except:\n",
    "                # FOR ANY NON-XML FILES\n",
    "                print ('Non-xml file type found, skipping!')\n",
    "                pass\n",
    "\n",
    "annotation_sum_df = pd.DataFrame(all_meta)"
   ]
  },
  {
   "cell_type": "code",
   "execution_count": 284,
   "metadata": {},
   "outputs": [
    {
     "data": {
      "text/html": [
       "<div>\n",
       "<style scoped>\n",
       "    .dataframe tbody tr th:only-of-type {\n",
       "        vertical-align: middle;\n",
       "    }\n",
       "\n",
       "    .dataframe tbody tr th {\n",
       "        vertical-align: top;\n",
       "    }\n",
       "\n",
       "    .dataframe thead th {\n",
       "        text-align: right;\n",
       "    }\n",
       "</style>\n",
       "<table border=\"1\" class=\"dataframe\">\n",
       "  <thead>\n",
       "    <tr style=\"text-align: right;\">\n",
       "      <th></th>\n",
       "      <th>audioFileName</th>\n",
       "      <th>excitationStyle</th>\n",
       "      <th>expressionStyle</th>\n",
       "      <th>fretNumber</th>\n",
       "      <th>guitarModel</th>\n",
       "      <th>instrument</th>\n",
       "      <th>offsetSec</th>\n",
       "      <th>onsetSec</th>\n",
       "      <th>pitch</th>\n",
       "      <th>recordingDate</th>\n",
       "      <th>stringNumber</th>\n",
       "    </tr>\n",
       "  </thead>\n",
       "  <tbody>\n",
       "    <tr>\n",
       "      <th>0</th>\n",
       "      <td>G53-40100-1111-00001.wav</td>\n",
       "      <td>PK</td>\n",
       "      <td>NO</td>\n",
       "      <td>0</td>\n",
       "      <td>Fender Strat Clean Neck SC</td>\n",
       "      <td>EGUI</td>\n",
       "      <td>2.5</td>\n",
       "      <td>0.2</td>\n",
       "      <td>40</td>\n",
       "      <td>07.01.2013</td>\n",
       "      <td>1</td>\n",
       "    </tr>\n",
       "    <tr>\n",
       "      <th>1</th>\n",
       "      <td>G53-41101-1111-00002.wav</td>\n",
       "      <td>PK</td>\n",
       "      <td>NO</td>\n",
       "      <td>1</td>\n",
       "      <td>Fender Strat Clean Neck SC</td>\n",
       "      <td>EGUI</td>\n",
       "      <td>2.5</td>\n",
       "      <td>0.2</td>\n",
       "      <td>41</td>\n",
       "      <td>07.01.2013</td>\n",
       "      <td>1</td>\n",
       "    </tr>\n",
       "    <tr>\n",
       "      <th>2</th>\n",
       "      <td>G53-42102-1111-00003.wav</td>\n",
       "      <td>PK</td>\n",
       "      <td>NO</td>\n",
       "      <td>2</td>\n",
       "      <td>Fender Strat Clean Neck SC</td>\n",
       "      <td>EGUI</td>\n",
       "      <td>2.5</td>\n",
       "      <td>0.2</td>\n",
       "      <td>42</td>\n",
       "      <td>07.01.2013</td>\n",
       "      <td>1</td>\n",
       "    </tr>\n",
       "    <tr>\n",
       "      <th>3</th>\n",
       "      <td>G53-43103-1111-00004.wav</td>\n",
       "      <td>PK</td>\n",
       "      <td>NO</td>\n",
       "      <td>3</td>\n",
       "      <td>Fender Strat Clean Neck SC</td>\n",
       "      <td>EGUI</td>\n",
       "      <td>2.5</td>\n",
       "      <td>0.2</td>\n",
       "      <td>43</td>\n",
       "      <td>07.01.2013</td>\n",
       "      <td>1</td>\n",
       "    </tr>\n",
       "    <tr>\n",
       "      <th>4</th>\n",
       "      <td>G53-44104-1111-00005.wav</td>\n",
       "      <td>PK</td>\n",
       "      <td>NO</td>\n",
       "      <td>4</td>\n",
       "      <td>Fender Strat Clean Neck SC</td>\n",
       "      <td>EGUI</td>\n",
       "      <td>2.5</td>\n",
       "      <td>0.2</td>\n",
       "      <td>44</td>\n",
       "      <td>07.01.2013</td>\n",
       "      <td>1</td>\n",
       "    </tr>\n",
       "  </tbody>\n",
       "</table>\n",
       "</div>"
      ],
      "text/plain": [
       "              audioFileName excitationStyle expressionStyle fretNumber  \\\n",
       "0  G53-40100-1111-00001.wav              PK              NO          0   \n",
       "1  G53-41101-1111-00002.wav              PK              NO          1   \n",
       "2  G53-42102-1111-00003.wav              PK              NO          2   \n",
       "3  G53-43103-1111-00004.wav              PK              NO          3   \n",
       "4  G53-44104-1111-00005.wav              PK              NO          4   \n",
       "\n",
       "                  guitarModel instrument offsetSec onsetSec pitch  \\\n",
       "0  Fender Strat Clean Neck SC       EGUI       2.5      0.2    40   \n",
       "1  Fender Strat Clean Neck SC       EGUI       2.5      0.2    41   \n",
       "2  Fender Strat Clean Neck SC       EGUI       2.5      0.2    42   \n",
       "3  Fender Strat Clean Neck SC       EGUI       2.5      0.2    43   \n",
       "4  Fender Strat Clean Neck SC       EGUI       2.5      0.2    44   \n",
       "\n",
       "  recordingDate stringNumber  \n",
       "0    07.01.2013            1  \n",
       "1    07.01.2013            1  \n",
       "2    07.01.2013            1  \n",
       "3    07.01.2013            1  \n",
       "4    07.01.2013            1  "
      ]
     },
     "execution_count": 284,
     "metadata": {},
     "output_type": "execute_result"
    }
   ],
   "source": [
    "annotation_sum_df.head()"
   ]
  },
  {
   "cell_type": "markdown",
   "metadata": {},
   "source": [
    "# REDUCE DATASET TO SINGLE NOTE"
   ]
  },
  {
   "cell_type": "code",
   "execution_count": 285,
   "metadata": {
    "collapsed": true
   },
   "outputs": [],
   "source": [
    "# ADDING A MASK TO OMIT CHORDS - MARKED BY MAJOR / MINOR TAGS\n",
    "single_chord_filter = annotation_sum_df.audioFileName.str.contains(r'(major|minor)', case = False)\n",
    "single_note_df = annotation_sum_df.loc[~single_chord_filter] "
   ]
  },
  {
   "cell_type": "code",
   "execution_count": 287,
   "metadata": {},
   "outputs": [
    {
     "name": "stdout",
     "output_type": "stream",
     "text": [
      "312 files available to us\n"
     ]
    }
   ],
   "source": [
    "print ('{} files available to us'.format(single_note_df.shape[0]))"
   ]
  },
  {
   "cell_type": "markdown",
   "metadata": {},
   "source": [
    "# SANITY CHECKS"
   ]
  },
  {
   "cell_type": "code",
   "execution_count": 288,
   "metadata": {},
   "outputs": [
    {
     "data": {
      "text/plain": [
       "'ALL CRITERIA PASSED'"
      ]
     },
     "execution_count": 288,
     "metadata": {},
     "output_type": "execute_result"
    }
   ],
   "source": [
    "# NO STYLE AUGMENTATION\n",
    "assert single_note_df.groupby(['excitationStyle', 'expressionStyle']).size().index.values.shape[0] == 1\n",
    "# ONLY ONE INSTRUMENT - ELECTRIC GUITAR - REPRESENTED\n",
    "assert len(single_note_df['instrument'].unique()) == 1\n",
    "# NO FILE DUPLICATION\n",
    "assert len(single_note_df) == len(single_note_df.audioFileName.unique()), 'Duplicate files found'\n",
    "'ALL CRITERIA PASSED'"
   ]
  },
  {
   "cell_type": "markdown",
   "metadata": {},
   "source": [
    "# ISSUES WITH TYPE READING\n",
    "rereading annotations data from CSV will avoid this problem!"
   ]
  },
  {
   "cell_type": "code",
   "execution_count": 272,
   "metadata": {
    "collapsed": true
   },
   "outputs": [],
   "source": [
    "single_note_df[['offsetSec', 'onsetSec']] = single_note_df[['offsetSec', 'onsetSec']].apply(pd.to_numeric)"
   ]
  },
  {
   "cell_type": "code",
   "execution_count": 273,
   "metadata": {},
   "outputs": [
    {
     "data": {
      "text/plain": [
       "offsetSec    float64\n",
       "onsetSec     float64\n",
       "dtype: object"
      ]
     },
     "execution_count": 273,
     "metadata": {},
     "output_type": "execute_result"
    }
   ],
   "source": [
    "single_note_df[['offsetSec', 'onsetSec']].dtypes"
   ]
  },
  {
   "cell_type": "markdown",
   "metadata": {},
   "source": [
    "# .WAV(s) / Model - Single Note - Even distribution!"
   ]
  },
  {
   "cell_type": "code",
   "execution_count": 280,
   "metadata": {
    "collapsed": true
   },
   "outputs": [],
   "source": [
    "import plotly.graph_objs as go"
   ]
  },
  {
   "cell_type": "code",
   "execution_count": 289,
   "metadata": {},
   "outputs": [
    {
     "data": {
      "application/vnd.plotly.v1+json": {
       "data": [
        {
         "marker": {
          "color": [
           "rgba(255,0,0, 0.3)",
           "rgba(255,0, 255, 0.3)",
           "rgba(1, 255,0, 0.3)"
          ]
         },
         "type": "bar",
         "uid": "4469e0ca-9f0e-11e8-84cb-acbc327c0a0b",
         "x": [
          "Fender Strat Clean Neck SC",
          "Ibanez Power Strat Clean Bridge HU",
          "Ibanez Power Strat Clean Bridge+Neck SC",
          "Ibanez Power Strat Clean Neck HU"
         ],
         "y": [
          78,
          78,
          78,
          78
         ]
        }
       ],
       "layout": {
        "autosize": true,
        "title": "Model-wise distribution - Single Note",
        "xaxis": {
         "title": "Models"
        },
        "yaxis": {
         "title": "N .wav files"
        }
       }
      },
      "text/html": [
       "<div id=\"51078f33-542c-4c58-aa7d-e17a9d214bda\" style=\"height: 525px; width: 100%;\" class=\"plotly-graph-div\"></div><script type=\"text/javascript\">require([\"plotly\"], function(Plotly) { window.PLOTLYENV=window.PLOTLYENV || {};window.PLOTLYENV.BASE_URL=\"https://plot.ly\";\n",
       "        Plotly.plot(\n",
       "            '51078f33-542c-4c58-aa7d-e17a9d214bda',\n",
       "            [{\"marker\": {\"color\": [\"rgba(255,0,0, 0.3)\", \"rgba(255,0, 255, 0.3)\", \"rgba(1, 255,0, 0.3)\"]}, \"x\": [\"Fender Strat Clean Neck SC\", \"Ibanez Power Strat Clean Bridge HU\", \"Ibanez Power Strat Clean Bridge+Neck SC\", \"Ibanez Power Strat Clean Neck HU\"], \"y\": [78.0, 78.0, 78.0, 78.0], \"type\": \"bar\", \"uid\": \"4469e0ca-9f0e-11e8-84cb-acbc327c0a0b\"}],\n",
       "            {\"autosize\": true, \"title\": \"Model-wise distribution - Single Note\", \"xaxis\": {\"title\": \"Models\"}, \"yaxis\": {\"title\": \"N .wav files\"}},\n",
       "            {\"showLink\": true, \"linkText\": \"Export to plot.ly\"}\n",
       "        ).then(function () {return Plotly.addFrames('51078f33-542c-4c58-aa7d-e17a9d214bda',{});}).then(function(){Plotly.animate('51078f33-542c-4c58-aa7d-e17a9d214bda');})\n",
       "        });</script>"
      ],
      "text/vnd.plotly.v1+html": [
       "<div id=\"51078f33-542c-4c58-aa7d-e17a9d214bda\" style=\"height: 525px; width: 100%;\" class=\"plotly-graph-div\"></div><script type=\"text/javascript\">require([\"plotly\"], function(Plotly) { window.PLOTLYENV=window.PLOTLYENV || {};window.PLOTLYENV.BASE_URL=\"https://plot.ly\";\n",
       "        Plotly.plot(\n",
       "            '51078f33-542c-4c58-aa7d-e17a9d214bda',\n",
       "            [{\"marker\": {\"color\": [\"rgba(255,0,0, 0.3)\", \"rgba(255,0, 255, 0.3)\", \"rgba(1, 255,0, 0.3)\"]}, \"x\": [\"Fender Strat Clean Neck SC\", \"Ibanez Power Strat Clean Bridge HU\", \"Ibanez Power Strat Clean Bridge+Neck SC\", \"Ibanez Power Strat Clean Neck HU\"], \"y\": [78.0, 78.0, 78.0, 78.0], \"type\": \"bar\", \"uid\": \"4469e0ca-9f0e-11e8-84cb-acbc327c0a0b\"}],\n",
       "            {\"autosize\": true, \"title\": \"Model-wise distribution - Single Note\", \"xaxis\": {\"title\": \"Models\"}, \"yaxis\": {\"title\": \"N .wav files\"}},\n",
       "            {\"showLink\": true, \"linkText\": \"Export to plot.ly\"}\n",
       "        ).then(function () {return Plotly.addFrames('51078f33-542c-4c58-aa7d-e17a9d214bda',{});}).then(function(){Plotly.animate('51078f33-542c-4c58-aa7d-e17a9d214bda');})\n",
       "        });</script>"
      ]
     },
     "metadata": {},
     "output_type": "display_data"
    }
   ],
   "source": [
    "guitar_model_counts = single_note_df.groupby('guitarModel').size()\n",
    "trace = go.Bar(x = guitar_model_counts.index.values,\n",
    "        y = guitar_model_counts.values,\n",
    "        marker = dict(color = ['rgba(255,0,0, 0.3)', 'rgba(255,0, 255, 0.3)', 'rgba(1, 255,0, 0.3)'])\n",
    "      )\n",
    "data = [trace]\n",
    "layout = {\n",
    "    'title' : 'Model-wise distribution - Single Note',\n",
    "    'xaxis' : {'title' : 'Models'},\n",
    "    'yaxis' : {'title' : 'N .wav files'},\n",
    "    'autosize' : True\n",
    "}\n",
    "\n",
    "fig = go.Figure(data = data, layout = layout)\n",
    "iplot(fig)"
   ]
  },
  {
   "cell_type": "markdown",
   "metadata": {},
   "source": [
    "# Onset time / Model - Single Note"
   ]
  },
  {
   "cell_type": "code",
   "execution_count": 282,
   "metadata": {
    "collapsed": true
   },
   "outputs": [],
   "source": [
    "# CREATE A NEW COLUMN REPRESENTING ONSET TIME\n",
    "single_note_df['window'] = single_note_df['offsetSec'] - single_note_df['onsetSec'] "
   ]
  },
  {
   "cell_type": "code",
   "execution_count": 275,
   "metadata": {},
   "outputs": [
    {
     "data": {
      "text/plain": [
       "2.2098387820512824"
      ]
     },
     "execution_count": 275,
     "metadata": {},
     "output_type": "execute_result"
    }
   ],
   "source": [
    "single_note_df['window'].mean() "
   ]
  },
  {
   "cell_type": "code",
   "execution_count": 283,
   "metadata": {
    "scrolled": true
   },
   "outputs": [
    {
     "data": {
      "application/vnd.plotly.v1+json": {
       "data": [
        {
         "boxpoints": "all",
         "fillcolor": "rgb(50,50,50)",
         "jitter": 0.2,
         "line": {
          "color": "rgb(0,0,0)"
         },
         "name": "Fender Strat Clean Neck SC",
         "showlegend": false,
         "type": "box",
         "uid": "916fcc34-9f0d-11e8-a092-acbc327c0a0b",
         "y": [
          2.3,
          2.3,
          2.3,
          2.3,
          2.3,
          2.3,
          2.3,
          2.3,
          2.3,
          2.3,
          2.3,
          2.3,
          2.3,
          2.3,
          2.3,
          2.3,
          2.3,
          2.31,
          2.3,
          2.3,
          2.3,
          2.3,
          2.3,
          2.3,
          2.3,
          2.3,
          2.3,
          2.3,
          2.3,
          2.3,
          2.3,
          2.3,
          2.3,
          2.3,
          2.3,
          2.3,
          2.3,
          2.3,
          2.3,
          2.3,
          2.3,
          2.31,
          2.3,
          2.3,
          2.3,
          2.3,
          2.3,
          2.3,
          2.3,
          2.3,
          2.3,
          2.3,
          2.3,
          2.3,
          2.3,
          2.3,
          2.3,
          2.3,
          2.3,
          2.3,
          2.3,
          2.3,
          2.3,
          2.3,
          2.3,
          2.3,
          2.3,
          2.3,
          2.3,
          2.3,
          2.3,
          2.3,
          2.3,
          2.3,
          2.3,
          2.3,
          2.3,
          2.3
         ]
        },
        {
         "boxpoints": "all",
         "fillcolor": "rgb(150,150, 150)",
         "jitter": 0.2,
         "line": {
          "color": "rgb(0,0,0)"
         },
         "name": "Ibanez Power Strat Clean Bridge HU",
         "showlegend": false,
         "type": "box",
         "uid": "916fcdcc-9f0d-11e8-9ca5-acbc327c0a0b",
         "y": [
          2.273,
          2.285,
          2.277,
          2.2729,
          2.277,
          2.277,
          2.3,
          2.285,
          2.296,
          2.285,
          2.3,
          2.273,
          2.3,
          2.277,
          2.295,
          2.274,
          2.3,
          2.3,
          2.277,
          2.3,
          2.3,
          2.267,
          2.3,
          2.3,
          2.3,
          2.3,
          2.287,
          2.3,
          2.3,
          2.3,
          2.3,
          2.288,
          2.3,
          2.3,
          2.292,
          2.3,
          2.298,
          2.3,
          2.288,
          2.3,
          2.298,
          2.3,
          2.3,
          2.3,
          2.3,
          2.3,
          2.3,
          2.3,
          2.3,
          2.3,
          2.276,
          2.0084999999999997,
          2.285,
          1.8047000000000002,
          2.2944,
          1.5262,
          1.7116,
          1.7651000000000001,
          1.7175,
          2.0063,
          1.6465,
          1.7427,
          2.29,
          1.9328999999999998,
          1.8019999999999998,
          1.7799,
          1.7817,
          1.7205000000000001,
          1.7739,
          1.6675,
          1.52,
          1.4353,
          1.6337000000000002,
          1.4923,
          1.2693,
          1.324,
          1.5522,
          1.4015
         ]
        },
        {
         "boxpoints": "all",
         "fillcolor": "rgb(220,220,220)",
         "jitter": 0.2,
         "line": {
          "color": "rgb(0,0,0)"
         },
         "name": "Ibanez Power Strat Clean Bridge+Neck SC",
         "showlegend": false,
         "type": "box",
         "uid": "916fce9e-9f0d-11e8-8541-acbc327c0a0b",
         "y": [
          2.273,
          2.274,
          2.3,
          2.279,
          2.263,
          2.3,
          2.3,
          2.296,
          2.3,
          2.286,
          2.3,
          2.3,
          2.3,
          2.3,
          2.3,
          2.2689,
          2.3,
          2.3,
          2.286,
          2.1765999999999996,
          2.3,
          2.3,
          2.3,
          2.3,
          2.3,
          2.3,
          2.3,
          2.3,
          2.3,
          2.3,
          2.3,
          2.3,
          2.3,
          2.293,
          2.3,
          2.3,
          2.3,
          2.3,
          2.3,
          2.3,
          2.3,
          2.294,
          2.3,
          2.3,
          2.3,
          2.3,
          2.3,
          2.296,
          2.3,
          2.293,
          2.283,
          2.1149,
          2.295,
          1.4797,
          2.1815,
          2.167,
          1.8882999999999999,
          1.9448,
          1.9489,
          1.8891,
          2.2598,
          1.7207000000000001,
          2.3,
          2.3,
          2.2234,
          1.9538,
          2.1793,
          1.6442999999999999,
          1.9465,
          2.0143999999999997,
          1.9916000000000003,
          1.8568,
          2.0393999999999997,
          1.9447999999999999,
          1.2448000000000001,
          1.2669000000000001,
          1.7644,
          1.6713
         ]
        },
        {
         "boxpoints": "all",
         "fillcolor": "rgb(165,165,165)",
         "jitter": 0.2,
         "line": {
          "color": "rgb(0,0,0)"
         },
         "name": "Ibanez Power Strat Clean Neck HU",
         "showlegend": false,
         "type": "box",
         "uid": "916fcf52-9f0d-11e8-bb4d-acbc327c0a0b",
         "y": [
          2.273,
          2.264,
          2.275,
          2.281,
          2.281,
          2.275,
          2.29,
          2.275,
          2.262,
          2.268,
          2.3,
          2.264,
          2.3,
          2.268,
          2.3,
          2.281,
          2.3,
          2.3,
          2.276,
          2.274,
          2.263,
          2.283,
          2.272,
          2.3,
          2.262,
          2.3,
          2.279,
          2.296,
          2.274,
          2.3,
          2.286,
          2.295,
          2.3,
          2.29,
          2.288,
          2.3,
          2.26,
          2.3,
          2.286,
          2.295,
          2.296,
          2.3,
          2.294,
          2.282,
          2.3,
          2.291,
          2.295,
          2.3,
          2.294,
          2.295,
          2.287,
          2.289,
          2.292,
          1.9312999999999998,
          2.282,
          2.3,
          2.0583,
          2.3,
          2.2222999999999997,
          2.267,
          2.297,
          2.285,
          2.285,
          2.291,
          2.298,
          2.259,
          2.3,
          2.293,
          2.3,
          2.296,
          2.287,
          2.3,
          2.283,
          2.3,
          1.7182,
          2.1515999999999997,
          2.298,
          2.3
         ]
        }
       ],
       "layout": {
        "title": "Model-wise onset times",
        "yaxis": {
         "range": [
          0,
          2.772
         ]
        }
       }
      },
      "text/html": [
       "<div id=\"5458dc45-b31b-424d-9b37-ae2a5c2260bc\" style=\"height: 525px; width: 100%;\" class=\"plotly-graph-div\"></div><script type=\"text/javascript\">require([\"plotly\"], function(Plotly) { window.PLOTLYENV=window.PLOTLYENV || {};window.PLOTLYENV.BASE_URL=\"https://plot.ly\";Plotly.newPlot(\"5458dc45-b31b-424d-9b37-ae2a5c2260bc\", [{\"boxpoints\": \"all\", \"fillcolor\": \"rgb(50,50,50)\", \"jitter\": 0.2, \"line\": {\"color\": \"rgb(0,0,0)\"}, \"name\": \"Fender Strat Clean Neck SC\", \"showlegend\": false, \"y\": [2.3, 2.3, 2.3, 2.3, 2.3, 2.3, 2.3, 2.3, 2.3, 2.3, 2.3, 2.3, 2.3, 2.3, 2.3, 2.3, 2.3, 2.31, 2.3, 2.3, 2.3, 2.3, 2.3, 2.3, 2.3, 2.3, 2.3, 2.3, 2.3, 2.3, 2.3, 2.3, 2.3, 2.3, 2.3, 2.3, 2.3, 2.3, 2.3, 2.3, 2.3, 2.31, 2.3, 2.3, 2.3, 2.3, 2.3, 2.3, 2.3, 2.3, 2.3, 2.3, 2.3, 2.3, 2.3, 2.3, 2.3, 2.3, 2.3, 2.3, 2.3, 2.3, 2.3, 2.3, 2.3, 2.3, 2.3, 2.3, 2.3, 2.3, 2.3, 2.3, 2.3, 2.3, 2.3, 2.3, 2.3, 2.3], \"type\": \"box\", \"uid\": \"91777d88-9f0d-11e8-96d5-acbc327c0a0b\"}, {\"boxpoints\": \"all\", \"fillcolor\": \"rgb(150,150, 150)\", \"jitter\": 0.2, \"line\": {\"color\": \"rgb(0,0,0)\"}, \"name\": \"Ibanez Power Strat Clean Bridge HU\", \"showlegend\": false, \"y\": [2.273, 2.285, 2.277, 2.2729, 2.277, 2.277, 2.3, 2.285, 2.296, 2.285, 2.3, 2.273, 2.3, 2.277, 2.295, 2.274, 2.3, 2.3, 2.277, 2.3, 2.3, 2.267, 2.3, 2.3, 2.3, 2.3, 2.287, 2.3, 2.3, 2.3, 2.3, 2.288, 2.3, 2.3, 2.292, 2.3, 2.298, 2.3, 2.288, 2.3, 2.298, 2.3, 2.3, 2.3, 2.3, 2.3, 2.3, 2.3, 2.3, 2.3, 2.276, 2.0084999999999997, 2.285, 1.8047000000000002, 2.2944, 1.5262, 1.7116, 1.7651000000000001, 1.7175, 2.0063, 1.6465, 1.7427, 2.29, 1.9328999999999998, 1.8019999999999998, 1.7799, 1.7817, 1.7205000000000001, 1.7739, 1.6675, 1.52, 1.4353, 1.6337000000000002, 1.4923, 1.2693, 1.324, 1.5522, 1.4015], \"type\": \"box\", \"uid\": \"91777f4a-9f0d-11e8-92c3-acbc327c0a0b\"}, {\"boxpoints\": \"all\", \"fillcolor\": \"rgb(220,220,220)\", \"jitter\": 0.2, \"line\": {\"color\": \"rgb(0,0,0)\"}, \"name\": \"Ibanez Power Strat Clean Bridge+Neck SC\", \"showlegend\": false, \"y\": [2.273, 2.274, 2.3, 2.279, 2.263, 2.3, 2.3, 2.296, 2.3, 2.286, 2.3, 2.3, 2.3, 2.3, 2.3, 2.2689, 2.3, 2.3, 2.286, 2.1765999999999996, 2.3, 2.3, 2.3, 2.3, 2.3, 2.3, 2.3, 2.3, 2.3, 2.3, 2.3, 2.3, 2.3, 2.293, 2.3, 2.3, 2.3, 2.3, 2.3, 2.3, 2.3, 2.294, 2.3, 2.3, 2.3, 2.3, 2.3, 2.296, 2.3, 2.293, 2.283, 2.1149, 2.295, 1.4797, 2.1815, 2.167, 1.8882999999999999, 1.9448, 1.9489, 1.8891, 2.2598, 1.7207000000000001, 2.3, 2.3, 2.2234, 1.9538, 2.1793, 1.6442999999999999, 1.9465, 2.0143999999999997, 1.9916000000000003, 1.8568, 2.0393999999999997, 1.9447999999999999, 1.2448000000000001, 1.2669000000000001, 1.7644, 1.6713], \"type\": \"box\", \"uid\": \"9177803a-9f0d-11e8-a083-acbc327c0a0b\"}, {\"boxpoints\": \"all\", \"fillcolor\": \"rgb(165,165,165)\", \"jitter\": 0.2, \"line\": {\"color\": \"rgb(0,0,0)\"}, \"name\": \"Ibanez Power Strat Clean Neck HU\", \"showlegend\": false, \"y\": [2.273, 2.264, 2.275, 2.281, 2.281, 2.275, 2.29, 2.275, 2.262, 2.268, 2.3, 2.264, 2.3, 2.268, 2.3, 2.281, 2.3, 2.3, 2.276, 2.274, 2.263, 2.283, 2.272, 2.3, 2.262, 2.3, 2.279, 2.296, 2.274, 2.3, 2.286, 2.295, 2.3, 2.29, 2.288, 2.3, 2.26, 2.3, 2.286, 2.295, 2.296, 2.3, 2.294, 2.282, 2.3, 2.291, 2.295, 2.3, 2.294, 2.295, 2.287, 2.289, 2.292, 1.9312999999999998, 2.282, 2.3, 2.0583, 2.3, 2.2222999999999997, 2.267, 2.297, 2.285, 2.285, 2.291, 2.298, 2.259, 2.3, 2.293, 2.3, 2.296, 2.287, 2.3, 2.283, 2.3, 1.7182, 2.1515999999999997, 2.298, 2.3], \"type\": \"box\", \"uid\": \"91778102-9f0d-11e8-9c5d-acbc327c0a0b\"}], {\"title\": \"Model-wise onset times\", \"yaxis\": {\"range\": [0, 2.772]}}, {\"showLink\": true, \"linkText\": \"Export to plot.ly\"})});</script>"
      ],
      "text/vnd.plotly.v1+html": [
       "<div id=\"5458dc45-b31b-424d-9b37-ae2a5c2260bc\" style=\"height: 525px; width: 100%;\" class=\"plotly-graph-div\"></div><script type=\"text/javascript\">require([\"plotly\"], function(Plotly) { window.PLOTLYENV=window.PLOTLYENV || {};window.PLOTLYENV.BASE_URL=\"https://plot.ly\";Plotly.newPlot(\"5458dc45-b31b-424d-9b37-ae2a5c2260bc\", [{\"boxpoints\": \"all\", \"fillcolor\": \"rgb(50,50,50)\", \"jitter\": 0.2, \"line\": {\"color\": \"rgb(0,0,0)\"}, \"name\": \"Fender Strat Clean Neck SC\", \"showlegend\": false, \"y\": [2.3, 2.3, 2.3, 2.3, 2.3, 2.3, 2.3, 2.3, 2.3, 2.3, 2.3, 2.3, 2.3, 2.3, 2.3, 2.3, 2.3, 2.31, 2.3, 2.3, 2.3, 2.3, 2.3, 2.3, 2.3, 2.3, 2.3, 2.3, 2.3, 2.3, 2.3, 2.3, 2.3, 2.3, 2.3, 2.3, 2.3, 2.3, 2.3, 2.3, 2.3, 2.31, 2.3, 2.3, 2.3, 2.3, 2.3, 2.3, 2.3, 2.3, 2.3, 2.3, 2.3, 2.3, 2.3, 2.3, 2.3, 2.3, 2.3, 2.3, 2.3, 2.3, 2.3, 2.3, 2.3, 2.3, 2.3, 2.3, 2.3, 2.3, 2.3, 2.3, 2.3, 2.3, 2.3, 2.3, 2.3, 2.3], \"type\": \"box\", \"uid\": \"91777d88-9f0d-11e8-96d5-acbc327c0a0b\"}, {\"boxpoints\": \"all\", \"fillcolor\": \"rgb(150,150, 150)\", \"jitter\": 0.2, \"line\": {\"color\": \"rgb(0,0,0)\"}, \"name\": \"Ibanez Power Strat Clean Bridge HU\", \"showlegend\": false, \"y\": [2.273, 2.285, 2.277, 2.2729, 2.277, 2.277, 2.3, 2.285, 2.296, 2.285, 2.3, 2.273, 2.3, 2.277, 2.295, 2.274, 2.3, 2.3, 2.277, 2.3, 2.3, 2.267, 2.3, 2.3, 2.3, 2.3, 2.287, 2.3, 2.3, 2.3, 2.3, 2.288, 2.3, 2.3, 2.292, 2.3, 2.298, 2.3, 2.288, 2.3, 2.298, 2.3, 2.3, 2.3, 2.3, 2.3, 2.3, 2.3, 2.3, 2.3, 2.276, 2.0084999999999997, 2.285, 1.8047000000000002, 2.2944, 1.5262, 1.7116, 1.7651000000000001, 1.7175, 2.0063, 1.6465, 1.7427, 2.29, 1.9328999999999998, 1.8019999999999998, 1.7799, 1.7817, 1.7205000000000001, 1.7739, 1.6675, 1.52, 1.4353, 1.6337000000000002, 1.4923, 1.2693, 1.324, 1.5522, 1.4015], \"type\": \"box\", \"uid\": \"91777f4a-9f0d-11e8-92c3-acbc327c0a0b\"}, {\"boxpoints\": \"all\", \"fillcolor\": \"rgb(220,220,220)\", \"jitter\": 0.2, \"line\": {\"color\": \"rgb(0,0,0)\"}, \"name\": \"Ibanez Power Strat Clean Bridge+Neck SC\", \"showlegend\": false, \"y\": [2.273, 2.274, 2.3, 2.279, 2.263, 2.3, 2.3, 2.296, 2.3, 2.286, 2.3, 2.3, 2.3, 2.3, 2.3, 2.2689, 2.3, 2.3, 2.286, 2.1765999999999996, 2.3, 2.3, 2.3, 2.3, 2.3, 2.3, 2.3, 2.3, 2.3, 2.3, 2.3, 2.3, 2.3, 2.293, 2.3, 2.3, 2.3, 2.3, 2.3, 2.3, 2.3, 2.294, 2.3, 2.3, 2.3, 2.3, 2.3, 2.296, 2.3, 2.293, 2.283, 2.1149, 2.295, 1.4797, 2.1815, 2.167, 1.8882999999999999, 1.9448, 1.9489, 1.8891, 2.2598, 1.7207000000000001, 2.3, 2.3, 2.2234, 1.9538, 2.1793, 1.6442999999999999, 1.9465, 2.0143999999999997, 1.9916000000000003, 1.8568, 2.0393999999999997, 1.9447999999999999, 1.2448000000000001, 1.2669000000000001, 1.7644, 1.6713], \"type\": \"box\", \"uid\": \"9177803a-9f0d-11e8-a083-acbc327c0a0b\"}, {\"boxpoints\": \"all\", \"fillcolor\": \"rgb(165,165,165)\", \"jitter\": 0.2, \"line\": {\"color\": \"rgb(0,0,0)\"}, \"name\": \"Ibanez Power Strat Clean Neck HU\", \"showlegend\": false, \"y\": [2.273, 2.264, 2.275, 2.281, 2.281, 2.275, 2.29, 2.275, 2.262, 2.268, 2.3, 2.264, 2.3, 2.268, 2.3, 2.281, 2.3, 2.3, 2.276, 2.274, 2.263, 2.283, 2.272, 2.3, 2.262, 2.3, 2.279, 2.296, 2.274, 2.3, 2.286, 2.295, 2.3, 2.29, 2.288, 2.3, 2.26, 2.3, 2.286, 2.295, 2.296, 2.3, 2.294, 2.282, 2.3, 2.291, 2.295, 2.3, 2.294, 2.295, 2.287, 2.289, 2.292, 1.9312999999999998, 2.282, 2.3, 2.0583, 2.3, 2.2222999999999997, 2.267, 2.297, 2.285, 2.285, 2.291, 2.298, 2.259, 2.3, 2.293, 2.3, 2.296, 2.287, 2.3, 2.283, 2.3, 1.7182, 2.1515999999999997, 2.298, 2.3], \"type\": \"box\", \"uid\": \"91778102-9f0d-11e8-9c5d-acbc327c0a0b\"}], {\"title\": \"Model-wise onset times\", \"yaxis\": {\"range\": [0, 2.772]}}, {\"showLink\": true, \"linkText\": \"Export to plot.ly\"})});</script>"
      ]
     },
     "metadata": {},
     "output_type": "display_data"
    }
   ],
   "source": [
    "trace = []\n",
    "fill_colors = [\"rgb(50,50,50)\", \"rgb(150,150, 150)\", \"rgb(220,220,220)\", \"rgb(165,165,165)\"]\n",
    "ix = 0\n",
    "grouped_min_val = 0\n",
    "grouped_max_val = 0\n",
    "# ITERATING OVER PANDAS GROUPBY OBJECT AND PLOTTING ONSET VALUES\n",
    "for grp, df in single_note_df.groupby('guitarModel'):\n",
    "    values = df['window'].values\n",
    "    \n",
    "    # FOLLOWING 2 IF STATEMENTS STORING OUT OF SCOPE MIN AND MAX Y VALUES TO CENTER DATA\n",
    "    if np.max(values) > grouped_max_val:\n",
    "        grouped_max_val = np.max(values)\n",
    "    if np.min(values) < grouped_min_val:\n",
    "        grouped_min_val = np.min(values)\n",
    "        \n",
    "    # BACK TO GRAPH MAKING\n",
    "    trace.append(go.Box(\n",
    "        y = values, \n",
    "        name = grp, \n",
    "        fillcolor = fill_colors[ix],\n",
    "        line = dict(color = \"rgb(0,0,0)\"),\n",
    "        showlegend = False,\n",
    "        boxpoints = 'all',  \n",
    "        jitter = 0.2\n",
    "    ))\n",
    "    ix += 1\n",
    "data = trace\n",
    "\n",
    "layout = {'title' : 'Model-wise onset times', \n",
    "          \"yaxis\" : {'range' : [grouped_min_val, grouped_max_val * 1.2]}\n",
    "         \n",
    "         }\n",
    "\n",
    "iplot({\"data\" : data, 'layout' : layout})"
   ]
  },
  {
   "cell_type": "markdown",
   "metadata": {},
   "source": [
    "# FRET VS STRING NUMBER TABULATIONS\n",
    "Even distribution, again!"
   ]
  },
  {
   "cell_type": "code",
   "execution_count": 278,
   "metadata": {},
   "outputs": [
    {
     "data": {
      "text/html": [
       "<div>\n",
       "<style scoped>\n",
       "    .dataframe tbody tr th:only-of-type {\n",
       "        vertical-align: middle;\n",
       "    }\n",
       "\n",
       "    .dataframe tbody tr th {\n",
       "        vertical-align: top;\n",
       "    }\n",
       "\n",
       "    .dataframe thead th {\n",
       "        text-align: right;\n",
       "    }\n",
       "</style>\n",
       "<table border=\"1\" class=\"dataframe\">\n",
       "  <thead>\n",
       "    <tr style=\"text-align: right;\">\n",
       "      <th>fretNumber</th>\n",
       "      <th>0</th>\n",
       "      <th>1</th>\n",
       "      <th>10</th>\n",
       "      <th>11</th>\n",
       "      <th>12</th>\n",
       "      <th>2</th>\n",
       "      <th>3</th>\n",
       "      <th>4</th>\n",
       "      <th>5</th>\n",
       "      <th>6</th>\n",
       "      <th>7</th>\n",
       "      <th>8</th>\n",
       "      <th>9</th>\n",
       "      <th>All</th>\n",
       "    </tr>\n",
       "    <tr>\n",
       "      <th>stringNumber</th>\n",
       "      <th></th>\n",
       "      <th></th>\n",
       "      <th></th>\n",
       "      <th></th>\n",
       "      <th></th>\n",
       "      <th></th>\n",
       "      <th></th>\n",
       "      <th></th>\n",
       "      <th></th>\n",
       "      <th></th>\n",
       "      <th></th>\n",
       "      <th></th>\n",
       "      <th></th>\n",
       "      <th></th>\n",
       "    </tr>\n",
       "  </thead>\n",
       "  <tbody>\n",
       "    <tr>\n",
       "      <th>1</th>\n",
       "      <td>4</td>\n",
       "      <td>4</td>\n",
       "      <td>4</td>\n",
       "      <td>4</td>\n",
       "      <td>4</td>\n",
       "      <td>4</td>\n",
       "      <td>4</td>\n",
       "      <td>4</td>\n",
       "      <td>4</td>\n",
       "      <td>4</td>\n",
       "      <td>4</td>\n",
       "      <td>4</td>\n",
       "      <td>4</td>\n",
       "      <td>52</td>\n",
       "    </tr>\n",
       "    <tr>\n",
       "      <th>2</th>\n",
       "      <td>4</td>\n",
       "      <td>4</td>\n",
       "      <td>4</td>\n",
       "      <td>4</td>\n",
       "      <td>4</td>\n",
       "      <td>4</td>\n",
       "      <td>4</td>\n",
       "      <td>4</td>\n",
       "      <td>4</td>\n",
       "      <td>4</td>\n",
       "      <td>4</td>\n",
       "      <td>4</td>\n",
       "      <td>4</td>\n",
       "      <td>52</td>\n",
       "    </tr>\n",
       "    <tr>\n",
       "      <th>3</th>\n",
       "      <td>4</td>\n",
       "      <td>4</td>\n",
       "      <td>4</td>\n",
       "      <td>4</td>\n",
       "      <td>4</td>\n",
       "      <td>4</td>\n",
       "      <td>4</td>\n",
       "      <td>4</td>\n",
       "      <td>4</td>\n",
       "      <td>4</td>\n",
       "      <td>4</td>\n",
       "      <td>4</td>\n",
       "      <td>4</td>\n",
       "      <td>52</td>\n",
       "    </tr>\n",
       "    <tr>\n",
       "      <th>4</th>\n",
       "      <td>4</td>\n",
       "      <td>4</td>\n",
       "      <td>4</td>\n",
       "      <td>4</td>\n",
       "      <td>4</td>\n",
       "      <td>4</td>\n",
       "      <td>4</td>\n",
       "      <td>4</td>\n",
       "      <td>4</td>\n",
       "      <td>4</td>\n",
       "      <td>4</td>\n",
       "      <td>4</td>\n",
       "      <td>4</td>\n",
       "      <td>52</td>\n",
       "    </tr>\n",
       "    <tr>\n",
       "      <th>5</th>\n",
       "      <td>4</td>\n",
       "      <td>4</td>\n",
       "      <td>4</td>\n",
       "      <td>4</td>\n",
       "      <td>4</td>\n",
       "      <td>4</td>\n",
       "      <td>4</td>\n",
       "      <td>4</td>\n",
       "      <td>4</td>\n",
       "      <td>4</td>\n",
       "      <td>4</td>\n",
       "      <td>4</td>\n",
       "      <td>4</td>\n",
       "      <td>52</td>\n",
       "    </tr>\n",
       "    <tr>\n",
       "      <th>6</th>\n",
       "      <td>4</td>\n",
       "      <td>4</td>\n",
       "      <td>4</td>\n",
       "      <td>4</td>\n",
       "      <td>4</td>\n",
       "      <td>4</td>\n",
       "      <td>4</td>\n",
       "      <td>4</td>\n",
       "      <td>4</td>\n",
       "      <td>4</td>\n",
       "      <td>4</td>\n",
       "      <td>4</td>\n",
       "      <td>4</td>\n",
       "      <td>52</td>\n",
       "    </tr>\n",
       "    <tr>\n",
       "      <th>All</th>\n",
       "      <td>24</td>\n",
       "      <td>24</td>\n",
       "      <td>24</td>\n",
       "      <td>24</td>\n",
       "      <td>24</td>\n",
       "      <td>24</td>\n",
       "      <td>24</td>\n",
       "      <td>24</td>\n",
       "      <td>24</td>\n",
       "      <td>24</td>\n",
       "      <td>24</td>\n",
       "      <td>24</td>\n",
       "      <td>24</td>\n",
       "      <td>312</td>\n",
       "    </tr>\n",
       "  </tbody>\n",
       "</table>\n",
       "</div>"
      ],
      "text/plain": [
       "fretNumber     0   1  10  11  12   2   3   4   5   6   7   8   9  All\n",
       "stringNumber                                                         \n",
       "1              4   4   4   4   4   4   4   4   4   4   4   4   4   52\n",
       "2              4   4   4   4   4   4   4   4   4   4   4   4   4   52\n",
       "3              4   4   4   4   4   4   4   4   4   4   4   4   4   52\n",
       "4              4   4   4   4   4   4   4   4   4   4   4   4   4   52\n",
       "5              4   4   4   4   4   4   4   4   4   4   4   4   4   52\n",
       "6              4   4   4   4   4   4   4   4   4   4   4   4   4   52\n",
       "All           24  24  24  24  24  24  24  24  24  24  24  24  24  312"
      ]
     },
     "execution_count": 278,
     "metadata": {},
     "output_type": "execute_result"
    }
   ],
   "source": [
    "import plotly.figure_factory as ff\n",
    "\n",
    "cross_tabulated = pd.crosstab(single_note_df.stringNumber, single_note_df.fretNumber, margins = True)\n",
    "cross_tabulated"
   ]
  },
  {
   "cell_type": "code",
   "execution_count": null,
   "metadata": {
    "collapsed": true
   },
   "outputs": [],
   "source": []
  }
 ],
 "metadata": {
  "kernelspec": {
   "display_name": "Python 3",
   "language": "python",
   "name": "python3"
  },
  "language_info": {
   "codemirror_mode": {
    "name": "ipython",
    "version": 3
   },
   "file_extension": ".py",
   "mimetype": "text/x-python",
   "name": "python",
   "nbconvert_exporter": "python",
   "pygments_lexer": "ipython3",
   "version": "3.6.3"
  }
 },
 "nbformat": 4,
 "nbformat_minor": 2
}
