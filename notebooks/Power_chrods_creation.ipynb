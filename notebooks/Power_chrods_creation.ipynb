{
 "cells": [
  {
   "cell_type": "code",
   "execution_count": 4,
   "metadata": {},
   "outputs": [],
   "source": [
    "import pandas as pd\n",
    "import os\n",
    "import glob\n",
    "import json"
   ]
  },
  {
   "cell_type": "markdown",
   "metadata": {},
   "source": [
    "#### To create power chords, we need information about sample pitch (note height/frequency). We need to read annotations csv file to map sample pitch to sample filename."
   ]
  },
  {
   "cell_type": "code",
   "execution_count": null,
   "metadata": {},
   "outputs": [],
   "source": [
    "# reading pitch information \n",
    "annot=pd.read_csv(\"/home/stjepan/file_meta.csv\")\n",
    "annot2=annot[[\"audioFileName\", \"pitch\"]]\n",
    "\n",
    "annot2.head(3)\n",
    "\n",
    "# renaming filenames to include pitch information\n",
    "for i in range (0, df.shape[0]):\n",
    "    filename = str(annot2.iat[i,0])\n",
    "    pitch = str(annot2.iat[i,1])\n",
    "    for file in (glob.glob('*.wav')):\n",
    "        if file == filename:\n",
    "            os.rename(filename, filename[:-4]+\"_\"+pitch+\".wav\")"
   ]
  },
  {
   "cell_type": "markdown",
   "metadata": {},
   "source": [
    "#### Powerchord = sample1(pitch 1)+sample2(pitch1+7)+sample3(pitch1 +12) - mixed together"
   ]
  },
  {
   "cell_type": "code",
   "execution_count": null,
   "metadata": {},
   "outputs": [],
   "source": [
    "# creating json file containing power chord filenames \n",
    "test_path = \"/home/stjepan/guitar_data/\"\n",
    "f_ix = lambda x: int(x.split('/')[-1].strip('.wav')[-2:])\n",
    "files = glob.glob(test_path + '*.wav')\n",
    "notes = list(map(f_ix, files))\n",
    "power_chords = {}\n",
    "p = lambda f: f.split('/')[-1]\n",
    "get_index = lambda x: files[int(str(notes.index(x)))]\n",
    "for ix, base in enumerate(files):\n",
    "    #print(f_ix(base))\n",
    "    try:\n",
    "        fifth = p(get_index(f_ix(base) + 7))\n",
    "        octave = p(get_index(f_ix(base) + 12))\n",
    "        power_chords[p(base)] = [fifth, octave]\n",
    "    except Exception as e:\n",
    "        print (e)\n",
    "        continue\n",
    "\n",
    "json.dump(fp = open('power_chords_.json', 'w'), obj = power_chords)\n",
    "json_data =json.load(fp = open('power_chords_.json'))"
   ]
  },
  {
   "cell_type": "markdown",
   "metadata": {},
   "source": [
    "#### Reading filenames from json to create powerchords with sox.Combiner"
   ]
  },
  {
   "cell_type": "code",
   "execution_count": null,
   "metadata": {},
   "outputs": [],
   "source": [
    "df=pd.read_json(\"power_chords_.json\")\n",
    "df=df.T\n",
    "df = df.reset_index()\n",
    "for i in range(0, df.shape[0]):\n",
    "    base = PATH+str(df.iat[i,0])\n",
    "    fifth = PATH+str(df.iat[i,1])\n",
    "    octave = PATH+str(df.iat[i,2])\n",
    "\n",
    "    cbn = sox.Combiner()\n",
    "    cbn.build([base, fifth, octave], PATH+'pwrchrd_'+str(i)+'.wav', \"mix\" )"
   ]
  }
 ],
 "metadata": {
  "kernelspec": {
   "display_name": "Python 3",
   "language": "python",
   "name": "python3"
  },
  "language_info": {
   "codemirror_mode": {
    "name": "ipython",
    "version": 3
   },
   "file_extension": ".py",
   "mimetype": "text/x-python",
   "name": "python",
   "nbconvert_exporter": "python",
   "pygments_lexer": "ipython3",
   "version": "3.6.5"
  }
 },
 "nbformat": 4,
 "nbformat_minor": 2
}
